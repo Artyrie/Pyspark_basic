{
 "cells": [
  {
   "cell_type": "code",
   "execution_count": 1,
   "metadata": {},
   "outputs": [],
   "source": [
    "import findspark\n",
    "findspark.init()"
   ]
  },
  {
   "cell_type": "code",
   "execution_count": 2,
   "metadata": {},
   "outputs": [],
   "source": [
    "from pyspark import SparkContext\n",
    "\n",
    "sc = SparkContext(\"local\", \"first app\")\n",
    "# local은 Standalone 모드로 돌리라는 것\n",
    "# 내 컴퓨터 안에서 멀티 스레딩을 진행"
   ]
  },
  {
   "cell_type": "code",
   "execution_count": 3,
   "metadata": {},
   "outputs": [],
   "source": [
    "data = sc.parallelize([1, 2, 3, 4, 5, 6, 7, 8, 9, 10], 1)\n",
    "# 두 번째 인자는 partition의 개수"
   ]
  },
  {
   "cell_type": "code",
   "execution_count": 4,
   "metadata": {},
   "outputs": [
    {
     "name": "stdout",
     "output_type": "stream",
     "text": [
      "55\n"
     ]
    }
   ],
   "source": [
    "data_reduce = data.reduce(lambda x, y : x + y)\n",
    "print(data_reduce)"
   ]
  },
  {
   "cell_type": "code",
   "execution_count": 6,
   "metadata": {},
   "outputs": [
    {
     "name": "stdout",
     "output_type": "stream",
     "text": [
      "[1, 2, 3, 4, 5, 6, 7, 8, 9, 10]\n"
     ]
    }
   ],
   "source": [
    "print(data.collect())"
   ]
  },
  {
   "cell_type": "code",
   "execution_count": 7,
   "metadata": {},
   "outputs": [
    {
     "name": "stdout",
     "output_type": "stream",
     "text": [
      "10\n"
     ]
    }
   ],
   "source": [
    "print(data.count())"
   ]
  },
  {
   "cell_type": "code",
   "execution_count": 8,
   "metadata": {},
   "outputs": [
    {
     "name": "stdout",
     "output_type": "stream",
     "text": [
      "1\n"
     ]
    }
   ],
   "source": [
    "print(data.first())"
   ]
  },
  {
   "cell_type": "code",
   "execution_count": 10,
   "metadata": {},
   "outputs": [
    {
     "name": "stdout",
     "output_type": "stream",
     "text": [
      "[1, 2, 3, 4, 5, 6, 7]\n"
     ]
    }
   ],
   "source": [
    "print(data.take(7))"
   ]
  },
  {
   "cell_type": "code",
   "execution_count": 11,
   "metadata": {},
   "outputs": [
    {
     "name": "stdout",
     "output_type": "stream",
     "text": [
      "[7, 9, 3]\n"
     ]
    }
   ],
   "source": [
    "print(data.takeSample(False, 3))"
   ]
  },
  {
   "cell_type": "code",
   "execution_count": 13,
   "metadata": {},
   "outputs": [
    {
     "name": "stdout",
     "output_type": "stream",
     "text": [
      "[1, 2, 3]\n",
      "[1, 2, 3]\n"
     ]
    }
   ],
   "source": [
    "print(data.takeOrdered(3))\n",
    "print(data.take(3))"
   ]
  },
  {
   "cell_type": "code",
   "execution_count": 14,
   "metadata": {},
   "outputs": [],
   "source": [
    "data.saveAsTextFile(\"data\")"
   ]
  },
  {
   "cell_type": "code",
   "execution_count": 15,
   "metadata": {},
   "outputs": [
    {
     "name": "stdout",
     "output_type": "stream",
     "text": [
      "['1', '2', '3', '4', '5', '6', '7', '8', '9', '10']\n"
     ]
    }
   ],
   "source": [
    "data_reread = sc.textFile(\"data\")\n",
    "print(data_reread.collect())"
   ]
  },
  {
   "cell_type": "code",
   "execution_count": 17,
   "metadata": {},
   "outputs": [
    {
     "name": "stdout",
     "output_type": "stream",
     "text": [
      "defaultdict(<class 'int'>, {'a': 2, 'b': 1, 'c': 1})\n"
     ]
    }
   ],
   "source": [
    "data2 = sc.parallelize([('a', 1), ('b', 2), ('c', 3), ('a', 4)])\n",
    "print(data2.countByKey())"
   ]
  },
  {
   "cell_type": "code",
   "execution_count": 18,
   "metadata": {},
   "outputs": [
    {
     "name": "stdout",
     "output_type": "stream",
     "text": [
      "[2, 3, 4, 5, 6, 7, 8, 9, 10, 11]\n"
     ]
    }
   ],
   "source": [
    "print(data.map(lambda x : x + 1).collect())"
   ]
  },
  {
   "cell_type": "code",
   "execution_count": 19,
   "metadata": {},
   "outputs": [
    {
     "name": "stdout",
     "output_type": "stream",
     "text": [
      "[1, 2, 3, 4]\n"
     ]
    }
   ],
   "source": [
    "print(data.filter(lambda x : x < 5).collect())"
   ]
  },
  {
   "cell_type": "code",
   "execution_count": 20,
   "metadata": {},
   "outputs": [
    {
     "name": "stdout",
     "output_type": "stream",
     "text": [
      "[[1, 1], [2, 4], [3, 9], [4, 16], [5, 25], [6, 36], [7, 49], [8, 64], [9, 81], [10, 100]]\n",
      "[1, 1, 2, 4, 3, 9, 4, 16, 5, 25, 6, 36, 7, 49, 8, 64, 9, 81, 10, 100]\n"
     ]
    }
   ],
   "source": [
    "print(data.map(lambda x : [x, x*x]).collect())\n",
    "print(data.flatMap(lambda x : [x, x*x]).collect())"
   ]
  },
  {
   "cell_type": "code",
   "execution_count": 22,
   "metadata": {},
   "outputs": [
    {
     "name": "stdout",
     "output_type": "stream",
     "text": [
      "[6, 15, 34]\n"
     ]
    }
   ],
   "source": [
    "data = sc.parallelize([1, 2, 3, 4, 5, 6, 7, 8, 9, 10], 3)\n",
    "\n",
    "def f(x) : \n",
    "    yield sum(x)\n",
    "\n",
    "print(data.mapPartitions(f).collect())"
   ]
  },
  {
   "cell_type": "code",
   "execution_count": 23,
   "metadata": {},
   "outputs": [
    {
     "name": "stdout",
     "output_type": "stream",
     "text": [
      "[('a', 3), ('b', 1)]\n"
     ]
    }
   ],
   "source": [
    "x = sc.parallelize([('a', ['apple', 'banana', 'lemon']), ('b', ['grapes'])])\n",
    "\n",
    "def f(x) : \n",
    "    return len(x)\n",
    "\n",
    "print(x.mapValues(f).collect())"
   ]
  },
  {
   "cell_type": "code",
   "execution_count": 24,
   "metadata": {},
   "outputs": [
    {
     "name": "stdout",
     "output_type": "stream",
     "text": [
      "[('a', 5), ('b', 2), ('c', 3)]\n"
     ]
    }
   ],
   "source": [
    "data = sc.parallelize([('a', 1), ('b', 2), ('c', 3), ('a', 4)])\n",
    "print(data.reduceByKey(lambda x, y : x + y).collect())"
   ]
  },
  {
   "cell_type": "code",
   "execution_count": 26,
   "metadata": {},
   "outputs": [
    {
     "name": "stdout",
     "output_type": "stream",
     "text": [
      "[('a', [1, 4]), ('b', [2]), ('c', [3])]\n"
     ]
    }
   ],
   "source": [
    "print(data.groupByKey().mapValues(list).collect())"
   ]
  },
  {
   "cell_type": "code",
   "execution_count": 29,
   "metadata": {},
   "outputs": [
    {
     "name": "stdout",
     "output_type": "stream",
     "text": [
      "[('one', 1), ('two', 2), ('three', 3)]\n",
      "[('one', 1), ('two', 2), ('three', 3)]\n"
     ]
    }
   ],
   "source": [
    "words = ['one', 'two', 'two', 'three', 'three', 'three']\n",
    "wordPairsRDD = sc.parallelize(words).map(lambda word: (word, 1))\n",
    "\n",
    "print(wordPairsRDD.reduceByKey(lambda a, b : a + b).collect())\n",
    "print(wordPairsRDD.groupByKey().map(lambda t : (t[0], sum(t[1]))).collect())\n",
    "# reduce가 cost가 더 적음"
   ]
  },
  {
   "cell_type": "code",
   "execution_count": 30,
   "metadata": {},
   "outputs": [
    {
     "name": "stdout",
     "output_type": "stream",
     "text": [
      "[('a', 1), ('a', 4), ('b', 2), ('c', 3)]\n",
      "[('c', 3), ('b', 2), ('a', 1), ('a', 4)]\n"
     ]
    }
   ],
   "source": [
    "print(data.sortByKey().collect())\n",
    "print(data.sortByKey(False).collect())"
   ]
  },
  {
   "cell_type": "code",
   "execution_count": 31,
   "metadata": {},
   "outputs": [
    {
     "name": "stdout",
     "output_type": "stream",
     "text": [
      "[[1], [2, 3], [4, 5]]\n",
      "[[1, 2, 3, 4, 5]]\n"
     ]
    }
   ],
   "source": [
    "data = sc.parallelize([1, 2, 3, 4, 5], 3)\n",
    "print(data.glom().collect())\n",
    "print(data.coalesce(1).glom().collect())\n",
    "# coalesce(numPartitions, shuffle = False)\n",
    "# numPartitions개의 파티션으로 파티션 개수를 줄인 새 RDD를 생성"
   ]
  },
  {
   "cell_type": "code",
   "execution_count": 32,
   "metadata": {},
   "outputs": [
    {
     "name": "stdout",
     "output_type": "stream",
     "text": [
      "[[1], [2, 3], [4, 5]]\n"
     ]
    }
   ],
   "source": [
    "print(data.glom().collect())\n",
    "# 각 파티션을 하나의 리스트에 나열"
   ]
  },
  {
   "cell_type": "code",
   "execution_count": 35,
   "metadata": {},
   "outputs": [
    {
     "name": "stdout",
     "output_type": "stream",
     "text": [
      "[[1, 2], [3, 4], [5, 6], [7, 8, 9, 10]]\n",
      "[[1, 2, 5, 6, 7, 8, 9, 10], [3, 4]]\n"
     ]
    }
   ],
   "source": [
    "data = sc.parallelize([1, 2, 3, 4, 5, 6, 7, 8, 9, 10], 4)\n",
    "print(data.glom().collect())\n",
    "\n",
    "print(data.repartition(2).glom().collect())\n",
    "# 데이터 파티션을 새로 나눔\n",
    "# 셔플링이 일어남"
   ]
  },
  {
   "cell_type": "code",
   "execution_count": 36,
   "metadata": {},
   "outputs": [
    {
     "name": "stdout",
     "output_type": "stream",
     "text": [
      "[2, 3, 4, 5, 9]\n"
     ]
    }
   ],
   "source": [
    "data = sc.parallelize([1, 2, 3, 4, 5, 6, 7, 8, 9, 10], 3)\n",
    "sample = data.sample(False, 0.5, 777)\n",
    "print(sample.collect())\n",
    "# sample(withReplacement, fraction, seed)\n",
    "# 중복추출 여부, 전체 데이터셋과 리턴 데이터 셋 간의 크기 비율, seed"
   ]
  },
  {
   "cell_type": "code",
   "execution_count": 37,
   "metadata": {},
   "outputs": [
    {
     "name": "stdout",
     "output_type": "stream",
     "text": [
      "[1, 2, 3, 4, 5]\n"
     ]
    }
   ],
   "source": [
    "data = sc.parallelize([1, 2, 3, 4, 5, 4, 5], 1)\n",
    "print(data.distinct().collect())\n",
    "# 중복된 값을 제거한 새 RDD 리턴"
   ]
  },
  {
   "cell_type": "code",
   "execution_count": 39,
   "metadata": {},
   "outputs": [
    {
     "name": "stdout",
     "output_type": "stream",
     "text": [
      "[1, 2, 3, 4, 5, 6, 6, 7, 8, 9, 10]\n"
     ]
    }
   ],
   "source": [
    "data1 = sc.parallelize([1, 2, 3, 4, 5, 6], 1)\n",
    "data2 = sc.parallelize([6, 7, 8, 9, 10], 1)\n",
    "print(data1.union(data2).collect())\n",
    "# 중복 제거가 안됨"
   ]
  },
  {
   "cell_type": "code",
   "execution_count": 40,
   "metadata": {},
   "outputs": [
    {
     "name": "stdout",
     "output_type": "stream",
     "text": [
      "[4, 3, 5]\n"
     ]
    }
   ],
   "source": [
    "data1 = sc.parallelize([1, 2, 3, 4, 5], 1)\n",
    "data2 = sc.parallelize([3, 4, 5, 6, 7], 1)\n",
    "print(data1.intersection(data2).collect())"
   ]
  },
  {
   "cell_type": "code",
   "execution_count": 41,
   "metadata": {},
   "outputs": [
    {
     "name": "stdout",
     "output_type": "stream",
     "text": [
      "(2, (<pyspark.resultiterable.ResultIterable object at 0x7f363a85a908>, <pyspark.resultiterable.ResultIterable object at 0x7f363a85a588>))\n",
      "[(2, (['b'], ['f'])), (4, (['d'], ['h'])), (1, (['a'], ['e'])), (3, (['c'], ['g']))]\n"
     ]
    }
   ],
   "source": [
    "data1 = sc.parallelize([(1, 'a'), (2, 'b'), (3, 'c'), (4, 'd')])\n",
    "data2 = sc.parallelize([(1, 'e'), (2, 'f'), (3, 'g'), (4, 'h')])\n",
    "\n",
    "group1 = data1.cogroup(data2).collect()\n",
    "print(group1[0])\n",
    "\n",
    "group2 = data1.cogroup(data2).mapValues(lambda t : (list(t[0]), list(t[1]))).collect()\n",
    "print(group2)"
   ]
  },
  {
   "cell_type": "code",
   "execution_count": 45,
   "metadata": {},
   "outputs": [
    {
     "name": "stdout",
     "output_type": "stream",
     "text": [
      "[(1, 1), (2, 2), (3, 3), (4, 4), (2, 2), (4, 4), (1, 1)]\n",
      "[[(2, 2), (4, 4), (2, 2), (4, 4)], [(1, 1), (3, 3), (1, 1)]]\n",
      "0\n"
     ]
    }
   ],
   "source": [
    "pairs = sc.parallelize([1, 2, 3, 4, 2, 4, 1]).map(lambda x : (x, x))\n",
    "print(pairs.collect())\n",
    "sets = pairs.partitionBy(2).glom().collect()\n",
    "print(sets)\n",
    "print(len(set(sets[0]).intersection(set(sets[1]))))"
   ]
  },
  {
   "cell_type": "code",
   "execution_count": 47,
   "metadata": {},
   "outputs": [
    {
     "name": "stdout",
     "output_type": "stream",
     "text": [
      "[('a', (1, 2)), ('a', (1, 3))]\n"
     ]
    }
   ],
   "source": [
    "x = sc.parallelize([('a', 1), ('b', 4)])\n",
    "y = sc.parallelize([('a', 2), ('a', 3)])\n",
    "print(sorted(x.join(y).collect()))"
   ]
  },
  {
   "cell_type": "code",
   "execution_count": null,
   "metadata": {},
   "outputs": [],
   "source": []
  }
 ],
 "metadata": {
  "kernelspec": {
   "display_name": "Python 3",
   "language": "python",
   "name": "python3"
  },
  "language_info": {
   "codemirror_mode": {
    "name": "ipython",
    "version": 3
   },
   "file_extension": ".py",
   "mimetype": "text/x-python",
   "name": "python",
   "nbconvert_exporter": "python",
   "pygments_lexer": "ipython3",
   "version": "3.6.9"
  }
 },
 "nbformat": 4,
 "nbformat_minor": 4
}
