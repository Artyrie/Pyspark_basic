{
 "cells": [
  {
   "cell_type": "code",
   "execution_count": 1,
   "metadata": {},
   "outputs": [],
   "source": [
    "import findspark\n",
    "findspark.init()"
   ]
  },
  {
   "cell_type": "code",
   "execution_count": 2,
   "metadata": {},
   "outputs": [],
   "source": [
    "from pyspark import SparkContext\n",
    "\n",
    "sc = SparkContext(\"local\", \"first app\")"
   ]
  },
  {
   "cell_type": "code",
   "execution_count": 3,
   "metadata": {},
   "outputs": [],
   "source": [
    "import matplotlib.pyplot as plt\n",
    "import numpy as np"
   ]
  },
  {
   "cell_type": "code",
   "execution_count": 4,
   "metadata": {},
   "outputs": [],
   "source": [
    "class CFG : \n",
    "    data_num = 200\n",
    "    block_num = 4\n",
    "    threshold = 0.01"
   ]
  },
  {
   "cell_type": "code",
   "execution_count": 5,
   "metadata": {},
   "outputs": [],
   "source": [
    "def create_dataset(N, D = 2, minval = [0, 0], maxval = [1, 1]) : \n",
    "    \"\"\"\n",
    "    D차원 벡터 N개 생성\n",
    "    \"\"\"\n",
    "    \n",
    "    dataset = np.zeros((N, D + 1))\n",
    "    \n",
    "    # gen IDs\n",
    "    dataset[:, 0] = np.arange(N, dtype = 'int')\n",
    "    \n",
    "    # gen values\n",
    "    for i in range(D) : \n",
    "        vec = np.random.rand(N) * (maxval[i] - minval[i]) + minval[i]\n",
    "        dataset[:, i + 1] = vec\n",
    "    \n",
    "    return dataset"
   ]
  },
  {
   "cell_type": "code",
   "execution_count": 6,
   "metadata": {},
   "outputs": [],
   "source": [
    "dataset200 = create_dataset(200)"
   ]
  },
  {
   "cell_type": "code",
   "execution_count": 7,
   "metadata": {},
   "outputs": [],
   "source": [
    "def map_func(input_data) : \n",
    "    x, vec = input_data[0], [input_data[1], input_data[2]]\n",
    "    b = x // (CFG.data_num // CFG.block_num) + 1\n",
    "    \n",
    "    tmp_list = []\n",
    "    for i in range(CFG.block_num) : \n",
    "        if i < b : \n",
    "            tmp_list.append(((i + 1, b), ((i + 1, b), x, vec)))\n",
    "        else :\n",
    "            tmp_list.append(((b, i + 1), ((b, i + 1), x, vec)))\n",
    "        \n",
    "    return tmp_list"
   ]
  },
  {
   "cell_type": "code",
   "execution_count": 8,
   "metadata": {},
   "outputs": [],
   "source": [
    "test = sc.parallelize(dataset200, 1)"
   ]
  },
  {
   "cell_type": "code",
   "execution_count": 9,
   "metadata": {},
   "outputs": [
    {
     "data": {
      "text/plain": [
       "[array([0.        , 0.28943461, 0.12429405]),\n",
       " array([1.        , 0.7768364 , 0.62959563]),\n",
       " array([2.        , 0.75849072, 0.23909181]),\n",
       " array([3.        , 0.51767681, 0.48866389]),\n",
       " array([4.        , 0.22737381, 0.48906431])]"
      ]
     },
     "execution_count": 9,
     "metadata": {},
     "output_type": "execute_result"
    }
   ],
   "source": [
    "test.take(5)"
   ]
  },
  {
   "cell_type": "code",
   "execution_count": 10,
   "metadata": {},
   "outputs": [],
   "source": [
    "test2 = test.flatMap(map_func)"
   ]
  },
  {
   "cell_type": "code",
   "execution_count": 11,
   "metadata": {},
   "outputs": [
    {
     "data": {
      "text/plain": [
       "[((1, 1.0), ((1, 1.0), 0.0, [0.2894346060761158, 0.1242940548243906])),\n",
       " ((1.0, 2), ((1.0, 2), 0.0, [0.2894346060761158, 0.1242940548243906])),\n",
       " ((1.0, 3), ((1.0, 3), 0.0, [0.2894346060761158, 0.1242940548243906])),\n",
       " ((1.0, 4), ((1.0, 4), 0.0, [0.2894346060761158, 0.1242940548243906])),\n",
       " ((1, 1.0), ((1, 1.0), 1.0, [0.7768364049746603, 0.6295956304491573])),\n",
       " ((1.0, 2), ((1.0, 2), 1.0, [0.7768364049746603, 0.6295956304491573])),\n",
       " ((1.0, 3), ((1.0, 3), 1.0, [0.7768364049746603, 0.6295956304491573])),\n",
       " ((1.0, 4), ((1.0, 4), 1.0, [0.7768364049746603, 0.6295956304491573])),\n",
       " ((1, 1.0), ((1, 1.0), 2.0, [0.7584907182409724, 0.23909180872417324])),\n",
       " ((1.0, 2), ((1.0, 2), 2.0, [0.7584907182409724, 0.23909180872417324])),\n",
       " ((1.0, 3), ((1.0, 3), 2.0, [0.7584907182409724, 0.23909180872417324])),\n",
       " ((1.0, 4), ((1.0, 4), 2.0, [0.7584907182409724, 0.23909180872417324])),\n",
       " ((1, 1.0), ((1, 1.0), 3.0, [0.5176768058344245, 0.4886638932421393])),\n",
       " ((1.0, 2), ((1.0, 2), 3.0, [0.5176768058344245, 0.4886638932421393])),\n",
       " ((1.0, 3), ((1.0, 3), 3.0, [0.5176768058344245, 0.4886638932421393])),\n",
       " ((1.0, 4), ((1.0, 4), 3.0, [0.5176768058344245, 0.4886638932421393])),\n",
       " ((1, 1.0), ((1, 1.0), 4.0, [0.22737380623868375, 0.4890643089744927])),\n",
       " ((1.0, 2), ((1.0, 2), 4.0, [0.22737380623868375, 0.4890643089744927])),\n",
       " ((1.0, 3), ((1.0, 3), 4.0, [0.22737380623868375, 0.4890643089744927])),\n",
       " ((1.0, 4), ((1.0, 4), 4.0, [0.22737380623868375, 0.4890643089744927]))]"
      ]
     },
     "execution_count": 11,
     "metadata": {},
     "output_type": "execute_result"
    }
   ],
   "source": [
    "test2.take(20)"
   ]
  },
  {
   "cell_type": "code",
   "execution_count": 12,
   "metadata": {},
   "outputs": [],
   "source": [
    "def dist(vec1, vec2) : \n",
    "    d = (vec1[0] - vec2[0]) ** 2 + (vec1[1] - vec2[0]) ** 2\n",
    "    return d"
   ]
  },
  {
   "cell_type": "code",
   "execution_count": 15,
   "metadata": {},
   "outputs": [],
   "source": [
    "def reduce_func(tlist) : \n",
    "    result = []\n",
    "    x = 0\n",
    "    y = 0\n",
    "    for (key, _, _) in tlist : \n",
    "        x, y = key\n",
    "    if (x == y) : \n",
    "        for (_, id_r, vec_r) in tlist :\n",
    "            for (_, id_s, vec_s) in tlist : \n",
    "                if dist(vec_r, vec_s) < CFG.threshold and (id_s != id_r) : \n",
    "                    result.append(((id_r, id_s), (vec_r, vec_s)))\n",
    "    else : \n",
    "        list_r = []\n",
    "        list_s = []\n",
    "        for (_, id_rs, vec_rs) in tlist :\n",
    "            b = id_rs // (CFG.data_num // CFG.block_num) + 1\n",
    "            if (b == x) : \n",
    "                list_r.append((id_rs, vec_rs))\n",
    "            elif (b == y) : \n",
    "                list_s.append((id_rs, vec_rs))\n",
    "        for (id_r, vec_r) in list_r :\n",
    "            for (id_s, vec_s) in list_s : \n",
    "                if dist(vec_r, vec_s) < CFG.threshold : \n",
    "                    result.append(((id_r, id_s), (vec_r, vec_s)))\n",
    "    return result"
   ]
  },
  {
   "cell_type": "code",
   "execution_count": 29,
   "metadata": {},
   "outputs": [
    {
     "data": {
      "text/plain": [
       "569"
      ]
     },
     "execution_count": 29,
     "metadata": {},
     "output_type": "execute_result"
    }
   ],
   "source": [
    "test2.groupByKey().mapValues(reduce_func).flatMap(lambda x : x[1]).count()"
   ]
  },
  {
   "cell_type": "code",
   "execution_count": null,
   "metadata": {},
   "outputs": [],
   "source": []
  }
 ],
 "metadata": {
  "kernelspec": {
   "display_name": "Python 3",
   "language": "python",
   "name": "python3"
  },
  "language_info": {
   "codemirror_mode": {
    "name": "ipython",
    "version": 3
   },
   "file_extension": ".py",
   "mimetype": "text/x-python",
   "name": "python",
   "nbconvert_exporter": "python",
   "pygments_lexer": "ipython3",
   "version": "3.6.9"
  }
 },
 "nbformat": 4,
 "nbformat_minor": 4
}
