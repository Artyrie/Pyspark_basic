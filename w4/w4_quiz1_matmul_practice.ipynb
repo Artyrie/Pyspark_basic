{
 "cells": [
  {
   "cell_type": "code",
   "execution_count": 1,
   "metadata": {},
   "outputs": [],
   "source": [
    "import findspark\n",
    "findspark.init()"
   ]
  },
  {
   "cell_type": "code",
   "execution_count": 2,
   "metadata": {},
   "outputs": [],
   "source": [
    "from pyspark import SparkContext\n",
    "\n",
    "sc = SparkContext(\"local\", \"first app\")"
   ]
  },
  {
   "cell_type": "code",
   "execution_count": 8,
   "metadata": {},
   "outputs": [],
   "source": [
    "data_A = sc.parallelize([(\"A\", 0, 0, 1), (\"A\", 0, 1, 2), (\"A\", 1, 0, 3), (\"A\", 1, 1, 4)])\n",
    "data_B = sc.parallelize([(\"B\", 0, 0, 5), (\"B\", 0, 1, 6), (\"B\", 1, 0, 7), (\"B\", 1, 1, 8)])"
   ]
  },
  {
   "cell_type": "code",
   "execution_count": 9,
   "metadata": {},
   "outputs": [
    {
     "name": "stdout",
     "output_type": "stream",
     "text": [
      "[('A', 0, 0, 1), ('A', 0, 1, 2), ('A', 1, 0, 3), ('A', 1, 1, 4)]\n"
     ]
    }
   ],
   "source": [
    "print(data_A.collect())"
   ]
  },
  {
   "cell_type": "code",
   "execution_count": 58,
   "metadata": {},
   "outputs": [],
   "source": [
    "data_A_map = data_A.flatMap(lambda x : [((x[1], i), (x[2], x[3])) for i in range(2)])"
   ]
  },
  {
   "cell_type": "code",
   "execution_count": 59,
   "metadata": {},
   "outputs": [
    {
     "name": "stdout",
     "output_type": "stream",
     "text": [
      "[((0, 0), (0, 1)), ((0, 1), (0, 1)), ((0, 0), (1, 2)), ((0, 1), (1, 2)), ((1, 0), (0, 3)), ((1, 1), (0, 3)), ((1, 0), (1, 4)), ((1, 1), (1, 4))]\n"
     ]
    }
   ],
   "source": [
    "print(data_A_map.collect())"
   ]
  },
  {
   "cell_type": "code",
   "execution_count": 60,
   "metadata": {},
   "outputs": [],
   "source": [
    "data_B_map = data_B.flatMap(lambda x : [((i, x[2]), (x[1], x[3])) for i in range(2)])"
   ]
  },
  {
   "cell_type": "code",
   "execution_count": 61,
   "metadata": {},
   "outputs": [
    {
     "name": "stdout",
     "output_type": "stream",
     "text": [
      "[((0, 0), (0, 5)), ((1, 0), (0, 5)), ((0, 1), (0, 6)), ((1, 1), (0, 6)), ((0, 0), (1, 7)), ((1, 0), (1, 7)), ((0, 1), (1, 8)), ((1, 1), (1, 8))]\n"
     ]
    }
   ],
   "source": [
    "print(data_B_map.collect())"
   ]
  },
  {
   "cell_type": "code",
   "execution_count": 62,
   "metadata": {},
   "outputs": [],
   "source": [
    "data_multiple = data_A_map.union(data_B_map)"
   ]
  },
  {
   "cell_type": "code",
   "execution_count": 63,
   "metadata": {},
   "outputs": [
    {
     "name": "stdout",
     "output_type": "stream",
     "text": [
      "[((0, 0), (0, 1)), ((0, 1), (0, 1)), ((0, 0), (1, 2)), ((0, 1), (1, 2)), ((1, 0), (0, 3)), ((1, 1), (0, 3)), ((1, 0), (1, 4)), ((1, 1), (1, 4)), ((0, 0), (0, 5)), ((1, 0), (0, 5)), ((0, 1), (0, 6)), ((1, 1), (0, 6)), ((0, 0), (1, 7)), ((1, 0), (1, 7)), ((0, 1), (1, 8)), ((1, 1), (1, 8))]\n"
     ]
    }
   ],
   "source": [
    "print(data_multiple.collect())"
   ]
  },
  {
   "cell_type": "code",
   "execution_count": 76,
   "metadata": {},
   "outputs": [],
   "source": [
    "def matmul(values) : \n",
    "    tmp = [1 for _ in range(2)]\n",
    "    for (k, v) in values : \n",
    "        tmp[k] = tmp[k] * v\n",
    "    return sum(tmp)"
   ]
  },
  {
   "cell_type": "code",
   "execution_count": 77,
   "metadata": {},
   "outputs": [],
   "source": [
    "data_C = data_multiple.groupByKey().mapValues(matmul)"
   ]
  },
  {
   "cell_type": "code",
   "execution_count": 78,
   "metadata": {},
   "outputs": [
    {
     "name": "stdout",
     "output_type": "stream",
     "text": [
      "[((0, 0), 19), ((1, 1), 50), ((0, 1), 22), ((1, 0), 43)]\n"
     ]
    }
   ],
   "source": [
    "print(data_C.collect())"
   ]
  },
  {
   "cell_type": "code",
   "execution_count": 91,
   "metadata": {},
   "outputs": [],
   "source": [
    "data_C_sum = data_C.map(lambda x : x[1])"
   ]
  },
  {
   "cell_type": "code",
   "execution_count": 94,
   "metadata": {},
   "outputs": [
    {
     "name": "stdout",
     "output_type": "stream",
     "text": [
      "134\n"
     ]
    }
   ],
   "source": [
    "print(data_C_sum.reduce(lambda x, y : x + y))"
   ]
  },
  {
   "cell_type": "code",
   "execution_count": null,
   "metadata": {},
   "outputs": [],
   "source": []
  }
 ],
 "metadata": {
  "kernelspec": {
   "display_name": "Python 3",
   "language": "python",
   "name": "python3"
  },
  "language_info": {
   "codemirror_mode": {
    "name": "ipython",
    "version": 3
   },
   "file_extension": ".py",
   "mimetype": "text/x-python",
   "name": "python",
   "nbconvert_exporter": "python",
   "pygments_lexer": "ipython3",
   "version": "3.6.9"
  }
 },
 "nbformat": 4,
 "nbformat_minor": 4
}
