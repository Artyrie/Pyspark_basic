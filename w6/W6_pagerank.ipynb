{
 "cells": [
  {
   "cell_type": "code",
   "execution_count": 1,
   "metadata": {},
   "outputs": [],
   "source": [
    "import findspark\n",
    "findspark.init()"
   ]
  },
  {
   "cell_type": "code",
   "execution_count": 2,
   "metadata": {},
   "outputs": [],
   "source": [
    "from pyspark import SparkContext\n",
    "sc = SparkContext(\"local\", \"first app\")"
   ]
  },
  {
   "cell_type": "markdown",
   "metadata": {},
   "source": [
    "## import"
   ]
  },
  {
   "cell_type": "code",
   "execution_count": 3,
   "metadata": {},
   "outputs": [],
   "source": [
    "import matplotlib.pyplot as plt\n",
    "import numpy as np\n",
    "import time"
   ]
  },
  {
   "cell_type": "markdown",
   "metadata": {},
   "source": [
    "## CFG"
   ]
  },
  {
   "cell_type": "code",
   "execution_count": 4,
   "metadata": {},
   "outputs": [],
   "source": [
    "class CFG :\n",
    "    debug = False\n",
    "    convergenceTol = 1e-6\n",
    "    max_iter = 50\n",
    "    d = 0.85\n",
    "    N_list = [1000, 2000, 4000, 8000, 16000]"
   ]
  },
  {
   "cell_type": "markdown",
   "metadata": {},
   "source": [
    "## Help function"
   ]
  },
  {
   "cell_type": "code",
   "execution_count": 5,
   "metadata": {},
   "outputs": [],
   "source": [
    "def create_setdata(ss) : \n",
    "    record = set()\n",
    "    for i in ss : \n",
    "        if i not in record : \n",
    "            record.add(i)\n",
    "        else :\n",
    "            yield record\n",
    "            record = set()\n",
    "    if not record : \n",
    "        yield record"
   ]
  },
  {
   "cell_type": "code",
   "execution_count": 6,
   "metadata": {},
   "outputs": [],
   "source": [
    "def create_dataset(N) : \n",
    "    while True : \n",
    "        s = np.random.default_rng().zipf(1.2, N * 10 * 10)\n",
    "        dataset = list(create_setdata(s[s < N]))\n",
    "        if len(dataset) >= N : \n",
    "            break\n",
    "            \n",
    "    ids = range(N)\n",
    "    return [(i, s) for i, s in zip(ids, dataset[:N])]"
   ]
  },
  {
   "cell_type": "code",
   "execution_count": 7,
   "metadata": {},
   "outputs": [],
   "source": [
    "def make_time(N_list) : \n",
    "    time_list = []\n",
    "    for N in N_list : \n",
    "        time_list.append(pagerank(N, CFG.max_iter, CFG.d))\n",
    "    return time_list"
   ]
  },
  {
   "cell_type": "code",
   "execution_count": 8,
   "metadata": {},
   "outputs": [],
   "source": [
    "def make_graph(N_list, time_list) : \n",
    "    plt.plot(N_list, time_list, 'r^-')\n",
    "    plt.xlabel(\"Number of Data\")\n",
    "    plt.ylabel(\"Processing Time\")\n",
    "    plt.title(\"Quiz Result\")\n",
    "    plt.tight_layout()\n",
    "    plt.show()"
   ]
  },
  {
   "cell_type": "markdown",
   "metadata": {},
   "source": [
    "## Main"
   ]
  },
  {
   "cell_type": "code",
   "execution_count": 9,
   "metadata": {},
   "outputs": [],
   "source": [
    "def pagerank(N, max_iter, d) : \n",
    "    # check time\n",
    "    start = time.time()\n",
    "    \n",
    "    # Broadcast pr\n",
    "    pr = sc.broadcast([1./float(N) for _ in range(N)])\n",
    "        \n",
    "    # make dataset\n",
    "    dataset = create_dataset(N)\n",
    "    inputRDD = sc.parallelize(dataset).cache()\n",
    "        \n",
    "    for iterNum in range(max_iter) : \n",
    "        if CFG.debug == True : \n",
    "            print(f\"============ {iterNum} ===========\")\n",
    "        \n",
    "        itr = inputRDD.flatMap(lambda x: [(target, pr.value[x[0]] / len(x[1])) for target in x[1]])\n",
    "        itr2 = itr.reduceByKey(lambda x, y : x + y)\n",
    "        itr3 = itr2.mapValues(lambda x : d * x + 1/N * (1-d)).cache()\n",
    "\n",
    "        # test convergence\n",
    "        err = itr.map(lambda x : abs(pr.value[x[0]])).sum() / N\n",
    "        \n",
    "        if err < CFG.convergenceTol : \n",
    "            pr = itr.map(lambda x : x[1]).collect()\n",
    "            break\n",
    "        \n",
    "        # update broadcast pr\n",
    "        pr = sc.broadcast(itr.map(lambda x : x[1]).collect())\n",
    "        \n",
    "\n",
    "        if CFG.debug == True : \n",
    "            print(\"===== err\")\n",
    "            print(err)\n",
    "            \n",
    "    if CFG.debug == True :    \n",
    "        print(\"============= End ===============\")\n",
    "        \n",
    "    # return time\n",
    "    return time.time() - start"
   ]
  },
  {
   "cell_type": "markdown",
   "metadata": {},
   "source": [
    "## Result"
   ]
  },
  {
   "cell_type": "code",
   "execution_count": 10,
   "metadata": {},
   "outputs": [
    {
     "data": {
      "image/png": "[encoded data removed]",
      "text/plain": [
       "<Figure size 432x288 with 1 Axes>"
      ]
     },
     "metadata": {
      "needs_background": "light"
     },
     "output_type": "display_data"
    }
   ],
   "source": [
    "time_list = make_time(CFG.N_list)\n",
    "make_graph(CFG.N_list, time_list)"
   ]
  },
  {
   "cell_type": "code",
   "execution_count": null,
   "metadata": {},
   "outputs": [],
   "source": []
  }
 ],
 "metadata": {
  "kernelspec": {
   "display_name": "Python 3",
   "language": "python",
   "name": "python3"
  },
  "language_info": {
   "codemirror_mode": {
    "name": "ipython",
    "version": 3
   },
   "file_extension": ".py",
   "mimetype": "text/x-python",
   "name": "python",
   "nbconvert_exporter": "python",
   "pygments_lexer": "ipython3",
   "version": "3.6.9"
  }
 },
 "nbformat": 4,
 "nbformat_minor": 4
}
